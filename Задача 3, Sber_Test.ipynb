{
 "cells": [
  {
   "cell_type": "code",
   "execution_count": 5,
   "metadata": {},
   "outputs": [],
   "source": [
    "from jinja2 import Template"
   ]
  },
  {
   "cell_type": "code",
   "execution_count": 16,
   "metadata": {},
   "outputs": [],
   "source": [
    "main_data = {\n",
    "    \"data\": [\n",
    "        {\n",
    "            \"name\": \"Саша\",\n",
    "            \"sum\": \"42,50\"\n",
    "        },\n",
    "        {\n",
    "            \"name\": \"Оля\",\n",
    "            \"sum\": \"100,50\"\n",
    "        },\n",
    "        {\n",
    "            \"name\": \"Сережа\",\n",
    "            \"sum\": \"10 000,00\"\n",
    "        }\n",
    "        \n",
    "    ]\n",
    "}"
   ]
  },
  {
   "cell_type": "code",
   "execution_count": 17,
   "metadata": {},
   "outputs": [
    {
     "name": "stdout",
     "output_type": "stream",
     "text": [
      "Оля - 100,50\n",
      "Сережа - 10 000,00\n",
      "\n"
     ]
    }
   ],
   "source": [
    "tm = Template('''\n",
    "{%- for blk in main_data.data -%}\n",
    "{%- set sum = blk.sum.replace(',','.').replace(' ','')|float -%}\n",
    "{%- if sum > 100 -%}\n",
    "{{ blk.name }} - {{ blk.sum }}\n",
    "{% endif %}\n",
    "{%- endfor -%}\n",
    "''')\n",
    "msg = tm.render(main_data = main_data)\n",
    "print(msg)"
   ]
  },
  {
   "cell_type": "code",
   "execution_count": null,
   "metadata": {},
   "outputs": [],
   "source": []
  }
 ],
 "metadata": {
  "kernelspec": {
   "display_name": "Python 3",
   "language": "python",
   "name": "python3"
  },
  "language_info": {
   "codemirror_mode": {
    "name": "ipython",
    "version": 3
   },
   "file_extension": ".py",
   "mimetype": "text/x-python",
   "name": "python",
   "nbconvert_exporter": "python",
   "pygments_lexer": "ipython3",
   "version": "3.8.5"
  }
 },
 "nbformat": 4,
 "nbformat_minor": 4
}
