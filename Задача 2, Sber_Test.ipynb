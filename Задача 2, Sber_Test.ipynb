{
 "cells": [
  {
   "cell_type": "code",
   "execution_count": 2,
   "metadata": {},
   "outputs": [],
   "source": [
    "import json\n",
    "import datetime as dt\n",
    "import codecs"
   ]
  },
  {
   "cell_type": "code",
   "execution_count": 5,
   "metadata": {},
   "outputs": [],
   "source": [
    "def date_selection(string):\n",
    "    vek = json.loads(string) \n",
    "    res = []\n",
    "    point = dt.datetime(2021, 9, 1) #дата, относительно которой формируется диапазон отсева\n",
    "    # cам отсев событий с помощью цикла\n",
    "    for i in range(0, len(vek[\"data\"])):\n",
    "        if dt.datetime.strptime(vek[\"data\"][i][\"date\"], \"%Y-%m-%d\") <= point + dt.timedelta(days = 10) and\\\n",
    "        dt.datetime.strptime(vek[\"data\"][i][\"date\"], \"%Y-%m-%d\") >= point - dt.timedelta(days = 10):\n",
    "            res.append(vek['data'][i])\n",
    "    vek[\"data\"] = res #новый набор событий, удовлетворяющий условиям\n",
    "    otv = json.dumps(vek, indent = 4)\n",
    "    otv = codecs.decode(otv, \"unicode_escape\") #переводим в юникод\n",
    "    print(otv)"
   ]
  },
  {
   "cell_type": "code",
   "execution_count": 10,
   "metadata": {},
   "outputs": [
    {
     "name": "stdout",
     "output_type": "stream",
     "text": [
      "{\n",
      "    \"user_id\": 123,\n",
      "    \"data\": [\n",
      "        {\n",
      "            \"text\": \"Событие №2\",\n",
      "            \"date\": \"2021-08-31\"\n",
      "        },\n",
      "        {\n",
      "            \"text\": \"Событие №5\",\n",
      "            \"date\": \"2021-09-11\"\n",
      "        }\n",
      "    ]\n",
      "}\n"
     ]
    }
   ],
   "source": [
    "s = \"\"\"\n",
    "{\n",
    "    \"user_id\": 123,\n",
    "    \"data\": [\n",
    "        {\n",
    "            \"text\": \"Событие №1\",\n",
    "            \"date\": \"2022-09-11\"\n",
    "        },\n",
    "        {\n",
    "            \"text\": \"Событие №2\",\n",
    "            \"date\": \"2021-08-31\"\n",
    "        },\n",
    "        {\n",
    "            \"text\": \"Событие №3\",\n",
    "            \"date\": \"2021-08-21\"\n",
    "        },\n",
    "        {\n",
    "            \"text\": \"Событие №4\",\n",
    "            \"date\": \"2021-09-13\"\n",
    "        },\n",
    "        {\n",
    "            \"text\": \"Событие №5\",\n",
    "            \"date\": \"2021-09-11\"\n",
    "        }\n",
    "    ]\n",
    "}\n",
    "\"\"\"\n",
    "date_selection(s)"
   ]
  },
  {
   "cell_type": "code",
   "execution_count": null,
   "metadata": {},
   "outputs": [],
   "source": []
  }
 ],
 "metadata": {
  "kernelspec": {
   "display_name": "Python 3",
   "language": "python",
   "name": "python3"
  },
  "language_info": {
   "codemirror_mode": {
    "name": "ipython",
    "version": 3
   },
   "file_extension": ".py",
   "mimetype": "text/x-python",
   "name": "python",
   "nbconvert_exporter": "python",
   "pygments_lexer": "ipython3",
   "version": "3.8.5"
  }
 },
 "nbformat": 4,
 "nbformat_minor": 4
}
